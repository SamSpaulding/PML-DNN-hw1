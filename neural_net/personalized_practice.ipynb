{
 "cells": [
  {
   "cell_type": "code",
   "execution_count": 11,
   "metadata": {
    "collapsed": false,
    "deletable": true,
    "editable": true
   },
   "outputs": [
    {
     "name": "stdout",
     "output_type": "stream",
     "text": [
      "/Users/nd/projects/pml-neuralnet-hw/PML-DNN-hw1/neural_net\n",
      "Populating the interactive namespace from numpy and matplotlib\n"
     ]
    }
   ],
   "source": [
    "import pandas as pd\n",
    "import numpy as np\n",
    "import tensorflow as tf\n",
    "import sys\n",
    "import os\n",
    "\n",
    "import neural_net\n",
    "print(os.getcwd())\n",
    "%pylab inline"
   ]
  },
  {
   "cell_type": "markdown",
   "metadata": {},
   "source": [
    "## Regression - homework"
   ]
  },
  {
   "cell_type": "code",
   "execution_count": 3,
   "metadata": {
    "collapsed": false
   },
   "outputs": [],
   "source": [
    "dropbox_path = '/Users/nd/projects/pml-neuralnet-hw/PersonalizedML/'\n",
    "filename = 'parkinsons_supervised.csv'"
   ]
  },
  {
   "cell_type": "code",
   "execution_count": 4,
   "metadata": {
    "collapsed": true
   },
   "outputs": [],
   "source": [
    "# Set the hyperparameters\n",
    "layer_sizes = [128,32]\n",
    "batch_size = 25\n",
    "learning_rate = .001\n",
    "dropout_prob = 1.0\n",
    "weight_penalty = 0.0\n",
    "clip_gradients = False"
   ]
  },
  {
   "cell_type": "code",
   "execution_count": 5,
   "metadata": {
    "collapsed": false
   },
   "outputs": [],
   "source": [
    "reload(neural_net)\n",
    "neural_net.reload_files()"
   ]
  },
  {
   "cell_type": "code",
   "execution_count": 9,
   "metadata": {
    "collapsed": false,
    "scrolled": true
   },
   "outputs": [
    {
     "name": "stdout",
     "output_type": "stream",
     "text": [
      "Original data length was 5875\n",
      "After dropping rows with nan in any label column, length is 5875\n",
      "3581 rows in training data\n",
      "1167 rows in validation data\n",
      "1127 rows in testing data\n",
      "\n",
      "Performing regression.\n",
      "Input dimensions (number of features): 20\n",
      "Number of classes/outputs: 2\n",
      "\n",
      "Building computation graph...\n",
      "Okay, making a neural net with the following structure:\n",
      "[('20x128', '128'), ('128x32', '32'), ('32x2', '2')]\n"
     ]
    }
   ],
   "source": [
    "net = neural_net.NeuralNetwork(dropbox_path + filename, 'homework', \n",
    "                               layer_sizes, batch_size, learning_rate, dropout_prob, \n",
    "                               weight_penalty, clip_gradients, model_type='regression')"
   ]
  },
  {
   "cell_type": "code",
   "execution_count": null,
   "metadata": {
    "collapsed": false,
    "scrolled": false
   },
   "outputs": [
    {
     "name": "stdout",
     "output_type": "stream",
     "text": [
      "this is iteration 0 !!!!!\n",
      "Original data length was 5875\n",
      "After dropping rows with nan in any label column, length is 5875\n",
      "3581 rows in training data\n",
      "1167 rows in validation data\n",
      "1127 rows in testing data\n",
      "\n",
      "Performing regression.\n",
      "Input dimensions (number of features): 20\n",
      "Number of classes/outputs: 2\n",
      "\n",
      "Building computation graph...\n",
      "Okay, making a neural net with the following structure:\n",
      "[('20x128', '128'), ('128x32', '32'), ('32x2', '2')]\n",
      "Training iteration 0\n",
      "\t Training RMSE 30.094\n",
      "\t Validation RMSE 26.9931\n",
      "\t Loss 26.9931\n",
      "Training iteration 100\n",
      "\t Training RMSE 11.419\n",
      "\t Validation RMSE 11.0586\n",
      "\t Loss 11.0586\n",
      "Training iteration 200\n",
      "\t Training RMSE 9.2407\n",
      "\t Validation RMSE 9.0418\n",
      "\t Loss 9.0418\n",
      "Training iteration 300\n",
      "\t Training RMSE 6.73745\n",
      "\t Validation RMSE 8.52351\n",
      "\t Loss 8.52351\n",
      "Training iteration 400\n",
      "\t Training RMSE 6.47328\n",
      "\t Validation RMSE 8.10882\n",
      "\t Loss 8.10882\n",
      "Training iteration 500\n",
      "\t Training RMSE 8.14462\n",
      "\t Validation RMSE 7.76996\n",
      "\t Loss 7.76996\n",
      "Training iteration 600\n",
      "\t Training RMSE 8.42211\n",
      "\t Validation RMSE 7.51232\n",
      "\t Loss 7.51232\n",
      "Training iteration 700\n",
      "\t Training RMSE 7.74616\n",
      "\t Validation RMSE 7.10198\n",
      "\t Loss 7.10198\n",
      "Training iteration 800\n",
      "\t Training RMSE 5.7804\n",
      "\t Validation RMSE 6.93834\n",
      "\t Loss 6.93834\n",
      "Training iteration 900\n",
      "\t Training RMSE 5.94277\n",
      "\t Validation RMSE 6.45465\n",
      "\t Loss 6.45465\n",
      "Training iteration 1000\n",
      "\t Training RMSE 6.84332\n",
      "\t Validation RMSE 6.19167\n",
      "\t Loss 6.19167\n",
      "Training iteration 1100\n",
      "\t Training RMSE 5.00824\n",
      "\t Validation RMSE 5.99549\n",
      "\t Loss 5.99549\n",
      "Training iteration 1200\n",
      "\t Training RMSE 5.7676\n",
      "\t Validation RMSE 5.939\n",
      "\t Loss 5.939\n",
      "Training iteration 1300\n",
      "\t Training RMSE 4.1073\n",
      "\t Validation RMSE 5.72809\n",
      "\t Loss 5.72809\n",
      "Training iteration 1400\n",
      "\t Training RMSE 5.21291\n",
      "\t Validation RMSE 5.5224\n",
      "\t Loss 5.5224\n",
      "Training iteration 1500\n",
      "\t Training RMSE 3.98182\n",
      "\t Validation RMSE 5.36876\n",
      "\t Loss 5.36876\n",
      "Training iteration 1600\n",
      "\t Training RMSE 4.22309\n",
      "\t Validation RMSE 5.3488\n",
      "\t Loss 5.3488\n",
      "Training iteration 1700\n",
      "\t Training RMSE 6.0431\n",
      "\t Validation RMSE 5.11366\n",
      "\t Loss 5.11366\n",
      "Training iteration 1800\n",
      "\t Training RMSE 4.74912\n",
      "\t Validation RMSE 5.03627\n",
      "\t Loss 5.03627\n",
      "Training iteration 1900\n",
      "\t Training RMSE 4.02382\n",
      "\t Validation RMSE 4.82558\n",
      "\t Loss 4.82558\n",
      "Training iteration 2000\n",
      "\t Training RMSE 5.33742\n",
      "\t Validation RMSE 4.87226\n",
      "\t Loss 4.87226\n",
      "Training iteration 2100\n",
      "\t Training RMSE 5.42494\n",
      "\t Validation RMSE 4.83789\n",
      "\t Loss 4.83789\n",
      "Training iteration 2200\n",
      "\t Training RMSE 3.2297\n",
      "\t Validation RMSE 4.58668\n",
      "\t Loss 4.58668\n",
      "Training iteration 2300\n",
      "\t Training RMSE 4.86904\n",
      "\t Validation RMSE 4.57106\n",
      "\t Loss 4.57106\n",
      "Training iteration 2400\n",
      "\t Training RMSE 3.77831\n",
      "\t Validation RMSE 4.56011\n",
      "\t Loss 4.56011\n",
      "Training iteration 2500\n",
      "\t Training RMSE 3.03425\n",
      "\t Validation RMSE 4.50665\n",
      "\t Loss 4.50665\n",
      "Training iteration 2600\n",
      "\t Training RMSE 3.50748\n",
      "\t Validation RMSE 4.36541\n",
      "\t Loss 4.36541\n",
      "Training iteration 2700\n",
      "\t Training RMSE 4.89174\n",
      "\t Validation RMSE 4.43961\n",
      "\t Loss 4.43961\n",
      "Training iteration 2800\n",
      "\t Training RMSE 4.66598\n",
      "\t Validation RMSE 4.3522\n",
      "\t Loss 4.3522\n"
     ]
    }
   ],
   "source": [
    "#find good hyperparameters for the base set\n",
    "\n",
    "layer_size_cands = [[128,32],[128,64],[128,128],[128,64,32],[128,64,64]]\n",
    "\n",
    "rmse_results = []\n",
    "\n",
    "for i in range(0,len(layer_size_cands)):\n",
    "    layer_sizes = layer_size_cands[i]\n",
    "    batch_size = 25\n",
    "    learning_rate = .001\n",
    "    dropout_prob = 1.0\n",
    "    weight_penalty = 0.0\n",
    "    clip_gradients = False\n",
    "    print('this is iteration ' + str(i) + ' !!!!!')\n",
    "    \n",
    "    \n",
    "    net = neural_net.NeuralNetwork(dropbox_path + filename, 'homework', \n",
    "                               layer_sizes, batch_size, learning_rate, dropout_prob, \n",
    "                               weight_penalty, clip_gradients, model_type='regression')\n",
    "    \n",
    "    \n",
    "    \n",
    "    net.train(num_steps=10000, output_every_nth=100)\n",
    "    rmse_results.append(net.test_on_validation())\n",
    "\n",
    "print rmse_results    "
   ]
  },
  {
   "cell_type": "code",
   "execution_count": 13,
   "metadata": {
    "collapsed": false
   },
   "outputs": [
    {
     "data": {
      "image/png": "[encoded data removed]",
      "text/plain": [
       "<matplotlib.figure.Figure at 0x113f5f910>"
      ]
     },
     "metadata": {},
     "output_type": "display_data"
    }
   ],
   "source": [
    "net.plot_training_progress()"
   ]
  },
  {
   "cell_type": "markdown",
   "metadata": {
    "deletable": true,
    "editable": true
   },
   "source": [
    "### debugging neural network using session.run"
   ]
  },
  {
   "cell_type": "code",
   "execution_count": 14,
   "metadata": {
    "collapsed": false,
    "deletable": true,
    "editable": true
   },
   "outputs": [
    {
     "name": "stdout",
     "output_type": "stream",
     "text": [
      "X (10, 20) Y (10, 2)\n"
     ]
    }
   ],
   "source": [
    "X, Y = net.data_loader.get_train_batch(10)\n",
    "feed_dict = {net.tf_X: X,\n",
    "             net.tf_Y: Y,\n",
    "             net.tf_dropout_prob: 1.0}\n",
    "print \"X\", np.shape(X), \"Y\", np.shape(Y)"
   ]
  },
  {
   "cell_type": "code",
   "execution_count": 19,
   "metadata": {
    "collapsed": false,
    "deletable": true,
    "editable": true
   },
   "outputs": [
    {
     "name": "stdout",
     "output_type": "stream",
     "text": [
      "[array([[ 0.35033551, -1.78116202, -0.68470937, -1.40052152, -0.30320659,\n",
      "        -0.1525038 , -0.25575474, -0.20323569, -0.25678062,  0.96460992,\n",
      "         0.52912575,  0.97140121,  1.18462873,  0.82155502,  0.97114718,\n",
      "        -0.20225847, -0.40879247,  1.4391408 ,  0.14954013, -0.16320474],\n",
      "       [-0.62218499, -0.76638234,  1.46047366,  0.49315697, -0.65916598,\n",
      "        -0.88036144, -0.54216307, -0.54065609, -0.54115933, -0.91260463,\n",
      "        -0.95570928, -0.86152756, -0.82540822, -0.99184608, -0.86126816,\n",
      "        -0.48749965,  1.05310428, -2.19696879,  0.07246424, -1.14588571],\n",
      "       [ 0.4313789 , -0.87913561,  1.46047366, -1.33126593, -0.18627307,\n",
      "        -0.4621276 , -0.04247193, -0.14307547, -0.0434966 ,  0.47931957,\n",
      "         0.38813251,  0.52619565,  0.54269242,  0.58743757,  0.52594227,\n",
      "        -0.46723726,  0.82877713, -1.87455714,  1.49147642, -0.31518951],\n",
      "       [-0.70322841,  0.92491704,  1.46047366, -0.54672247, -0.43217739,\n",
      "        -0.71460325, -0.29841128, -0.35755974, -0.2984218 , -0.50852293,\n",
      "        -0.54154164, -0.40329537, -0.48849687, -0.57709491, -0.40354744,\n",
      "        -0.30525616,  0.3612718 , -0.7216025 , -1.23093414, -1.05796969],\n",
      "       [ 0.99868256, -0.65362906, -0.68470937, -1.01195133, -0.05214344,\n",
      "         0.42438021, -0.24661404, -0.07245259, -0.2456086 , -0.21507327,\n",
      "        -0.29039744, -0.40942556, -0.23581339,  0.12677111, -0.40916678,\n",
      "        -0.1134883 , -0.28225496,  1.69729197,  0.77528948,  0.14812773],\n",
      "       [ 0.4313789 , -0.87913561,  1.46047366,  0.88773161, -0.35995373,\n",
      "        -0.61253256, -0.43552166, -0.38110068, -0.43553296, -0.43947592,\n",
      "        -0.47985709, -0.41862085, -0.38020396, -0.41513005, -0.41836208,\n",
      "        -0.43581539,  1.48903418,  0.24280785,  0.97909051, -0.36442247],\n",
      "       [-0.29801151,  0.02289071, -0.68470937,  0.43758833, -0.15703969,\n",
      "        -0.02086393, -0.00286226, -0.17707907, -0.00388671,  0.13486934,\n",
      "         0.07970981,  0.29324821,  0.06078889,  0.13333043,  0.29299515,\n",
      "        -0.36134017,  0.23850451, -0.80997318, -0.2570774 , -0.34244347],\n",
      "       [-0.62218499, -0.76638234,  1.46047366, -1.4646492 , -0.27053398,\n",
      "        -0.52268761, -0.17044161, -0.28170556, -0.16943574, -0.90083522,\n",
      "        -0.93808514, -0.84390324, -0.8061561 , -0.98175478, -0.84364384,\n",
      "        -0.37314022,  0.55331659, -1.95768201, -0.15918539, -1.02950692],\n",
      "       [-0.46009827,  0.02289071, -0.68470937, -0.71697134, -0.13296513,\n",
      "         0.02007806, -0.10340987, -0.27385855, -0.10240362, -0.75567967,\n",
      "        -0.7970919 , -0.74888521, -0.71952176, -0.90354747, -0.74888134,\n",
      "        -0.25077358,  0.26041883, -0.40080491,  0.21634862,  0.55309075],\n",
      "       [-0.13592476,  0.24839731, -0.68470937,  0.18510531,  0.29693753,\n",
      "         0.58757955,  0.25003022,  0.17341962,  0.24900721,  0.58995163,\n",
      "         0.92126316,  0.63653922,  0.5884161 ,  0.31194589,  0.63679653,\n",
      "        -0.11508974, -0.2593981 ,  0.59558433,  0.60763538,  0.32044306]], dtype=float32), array([[ 25.39500046,  30.98800087],\n",
      "       [ 15.18000031,  20.49099922],\n",
      "       [  7.99539995,  11.99499989],\n",
      "       [ 16.69099998,  24.61800003],\n",
      "       [ 25.60400009,  32.30199814],\n",
      "       [ 12.        ,  17.29999924],\n",
      "       [  5.73769999,   7.        ],\n",
      "       [  7.10370016,  11.26099968],\n",
      "       [  8.38829994,  16.83499908],\n",
      "       [ 10.11499977,  16.05699921]], dtype=float32), array([[ 22.32614899,  29.73100853],\n",
      "       [ 11.60329628,  17.25259399],\n",
      "       [ 10.11791801,  17.03334236],\n",
      "       [ 21.55584145,  30.11194992],\n",
      "       [ 26.1774559 ,  35.34766388],\n",
      "       [  9.67421246,  14.78485966],\n",
      "       [ 15.9302969 ,  21.96829224],\n",
      "       [ 10.97653675,  16.11657333],\n",
      "       [ 14.63603973,  20.84116745],\n",
      "       [ 14.88921642,  21.46494293]], dtype=float32)]\n"
     ]
    }
   ],
   "source": [
    "print net.session.run([net.tf_X,net.tf_Y, net.logits], feed_dict=feed_dict)\n",
    "#print \"X\", np.shape(tf_X), \"Y\", np.shape(tf_Y), \"logits\", np.shape(logits)"
   ]
  },
  {
   "cell_type": "code",
   "execution_count": 18,
   "metadata": {
    "collapsed": true,
    "deletable": true,
    "editable": true
   },
   "outputs": [],
   "source": [
    "# To see the tensorflow model you've built in tensorboard, run the following\n",
    "journalist = tf.summary.FileWriter(net.checkpoint_dir, graph=net.session.graph)\n",
    "journalist.flush()\n",
    "\n",
    "# Now enter the following command at the command line\n",
    "# > tensorboard --logdir 'saved_models'\n",
    "# (you may need to replace 'saved_models' with the path to the actual \n",
    "# net.checkpoint_dir you are using)"
   ]
  }
 ],
 "metadata": {
  "kernelspec": {
   "display_name": "Python 2",
   "language": "python",
   "name": "python2"
  },
  "language_info": {
   "codemirror_mode": {
    "name": "ipython",
    "version": 2
   },
   "file_extension": ".py",
   "mimetype": "text/x-python",
   "name": "python",
   "nbconvert_exporter": "python",
   "pygments_lexer": "ipython2",
   "version": "2.7.13"
  }
 },
 "nbformat": 4,
 "nbformat_minor": 0
}
